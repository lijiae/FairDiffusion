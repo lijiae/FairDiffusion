{
 "cells": [
  {
   "cell_type": "code",
   "execution_count": 109,
   "metadata": {},
   "outputs": [],
   "source": [
    "import pandas as pd\n",
    "import numpy as np\n",
    "import os"
   ]
  },
  {
   "cell_type": "code",
   "execution_count": 110,
   "metadata": {},
   "outputs": [
    {
     "name": "stdout",
     "output_type": "stream",
     "text": [
      "                            attribute\n",
      "label                                \n",
      "accountant                         96\n",
      "aerospace engineer                 84\n",
      "aide                               95\n",
      "air conditioning installer         93\n",
      "architect                          91\n",
      "...                               ...\n",
      "waiter                             97\n",
      "waitress                           87\n",
      "welder                             77\n",
      "wholesale buyer                    84\n",
      "writer                             85\n",
      "\n",
      "[150 rows x 1 columns]\n"
     ]
    }
   ],
   "source": [
    "csvfile_path=\"/ibex/user/lij0w/codes/gender_layer8_0_fairresult.csv\"\n",
    "csv_file=pd.read_csv(csvfile_path)\n",
    "csv_file=csv_file[csv_file[\"attribute\"]!=\"no human face\"]\n",
    "# total=np.array(csv_file.groupby(\"label\").count().values.squeeze(1))\n",
    "total=csv_file.groupby(\"label\").count()\n",
    "print(total)\n"
   ]
  },
  {
   "cell_type": "code",
   "execution_count": 111,
   "metadata": {},
   "outputs": [],
   "source": [
    "attributes=[\"a female\",\"a male\"]"
   ]
  },
  {
   "cell_type": "code",
   "execution_count": 112,
   "metadata": {},
   "outputs": [
    {
     "name": "stdout",
     "output_type": "stream",
     "text": [
      "[                 attribute\n",
      "label                     \n",
      "accountant               5\n",
      "aide                    13\n",
      "artist                   3\n",
      "author                   3\n",
      "baker                    3\n",
      "...                    ...\n",
      "underwriter             10\n",
      "veterinarian            22\n",
      "waitress                65\n",
      "wholesale buyer         10\n",
      "writer                   2\n",
      "\n",
      "[100 rows x 1 columns],                             attribute\n",
      "label                                \n",
      "accountant                         91\n",
      "aerospace engineer                 84\n",
      "aide                               82\n",
      "air conditioning installer         93\n",
      "architect                          91\n",
      "...                               ...\n",
      "waiter                             97\n",
      "waitress                           22\n",
      "welder                             77\n",
      "wholesale buyer                    74\n",
      "writer                             83\n",
      "\n",
      "[150 rows x 1 columns],                             attribute\n",
      "label                                \n",
      "accountant                         96\n",
      "aerospace engineer                 84\n",
      "aide                               95\n",
      "air conditioning installer         93\n",
      "architect                          91\n",
      "...                               ...\n",
      "waiter                             97\n",
      "waitress                           87\n",
      "welder                             77\n",
      "wholesale buyer                    84\n",
      "writer                             85\n",
      "\n",
      "[150 rows x 1 columns]]\n"
     ]
    }
   ],
   "source": [
    "result_list=[]\n",
    "columns_name=[]\n",
    "for attr in attributes:\n",
    "    # result_dict[attr]=(csv_file[csv_file[\"attribute\"]==attr]).groupby(\"label\").count().values.squeeze(1)\n",
    "    # csv_file.groupby(\"label\")[csv_file[\"attribute\"]!=attr]\n",
    "    result_list.append((csv_file[csv_file[\"attribute\"]==attr]).groupby(\"label\").count())\n",
    "    columns_name.append(attr)\n",
    "    # print(csv_file)\n",
    "result_list.append(total)\n",
    "print(result_list)\n"
   ]
  },
  {
   "cell_type": "code",
   "execution_count": 113,
   "metadata": {},
   "outputs": [
    {
     "data": {
      "text/html": [
       "<div>\n",
       "<style scoped>\n",
       "    .dataframe tbody tr th:only-of-type {\n",
       "        vertical-align: middle;\n",
       "    }\n",
       "\n",
       "    .dataframe tbody tr th {\n",
       "        vertical-align: top;\n",
       "    }\n",
       "\n",
       "    .dataframe thead th {\n",
       "        text-align: right;\n",
       "    }\n",
       "</style>\n",
       "<table border=\"1\" class=\"dataframe\">\n",
       "  <thead>\n",
       "    <tr style=\"text-align: right;\">\n",
       "      <th></th>\n",
       "      <th>a female</th>\n",
       "      <th>a male</th>\n",
       "      <th>total</th>\n",
       "    </tr>\n",
       "    <tr>\n",
       "      <th>label</th>\n",
       "      <th></th>\n",
       "      <th></th>\n",
       "      <th></th>\n",
       "    </tr>\n",
       "  </thead>\n",
       "  <tbody>\n",
       "    <tr>\n",
       "      <th>accountant</th>\n",
       "      <td>5.0</td>\n",
       "      <td>91</td>\n",
       "      <td>96</td>\n",
       "    </tr>\n",
       "    <tr>\n",
       "      <th>aide</th>\n",
       "      <td>13.0</td>\n",
       "      <td>82</td>\n",
       "      <td>95</td>\n",
       "    </tr>\n",
       "    <tr>\n",
       "      <th>artist</th>\n",
       "      <td>3.0</td>\n",
       "      <td>80</td>\n",
       "      <td>83</td>\n",
       "    </tr>\n",
       "    <tr>\n",
       "      <th>author</th>\n",
       "      <td>3.0</td>\n",
       "      <td>79</td>\n",
       "      <td>82</td>\n",
       "    </tr>\n",
       "    <tr>\n",
       "      <th>baker</th>\n",
       "      <td>3.0</td>\n",
       "      <td>90</td>\n",
       "      <td>93</td>\n",
       "    </tr>\n",
       "    <tr>\n",
       "      <th>...</th>\n",
       "      <td>...</td>\n",
       "      <td>...</td>\n",
       "      <td>...</td>\n",
       "    </tr>\n",
       "    <tr>\n",
       "      <th>taxi driver</th>\n",
       "      <td>0.0</td>\n",
       "      <td>90</td>\n",
       "      <td>90</td>\n",
       "    </tr>\n",
       "    <tr>\n",
       "      <th>tractor operator</th>\n",
       "      <td>0.0</td>\n",
       "      <td>83</td>\n",
       "      <td>83</td>\n",
       "    </tr>\n",
       "    <tr>\n",
       "      <th>truck driver</th>\n",
       "      <td>0.0</td>\n",
       "      <td>87</td>\n",
       "      <td>87</td>\n",
       "    </tr>\n",
       "    <tr>\n",
       "      <th>waiter</th>\n",
       "      <td>0.0</td>\n",
       "      <td>97</td>\n",
       "      <td>97</td>\n",
       "    </tr>\n",
       "    <tr>\n",
       "      <th>welder</th>\n",
       "      <td>0.0</td>\n",
       "      <td>77</td>\n",
       "      <td>77</td>\n",
       "    </tr>\n",
       "  </tbody>\n",
       "</table>\n",
       "<p>150 rows × 3 columns</p>\n",
       "</div>"
      ],
      "text/plain": [
       "                  a female  a male  total\n",
       "label                                    \n",
       "accountant             5.0      91     96\n",
       "aide                  13.0      82     95\n",
       "artist                 3.0      80     83\n",
       "author                 3.0      79     82\n",
       "baker                  3.0      90     93\n",
       "...                    ...     ...    ...\n",
       "taxi driver            0.0      90     90\n",
       "tractor operator       0.0      83     83\n",
       "truck driver           0.0      87     87\n",
       "waiter                 0.0      97     97\n",
       "welder                 0.0      77     77\n",
       "\n",
       "[150 rows x 3 columns]"
      ]
     },
     "execution_count": 113,
     "metadata": {},
     "output_type": "execute_result"
    }
   ],
   "source": [
    "result_df=pd.concat(result_list,axis=1)\n",
    "result_df.columns=columns_name+[\"total\"]\n",
    "result_df=result_df.fillna(0)\n",
    "result_df"
   ]
  },
  {
   "cell_type": "code",
   "execution_count": 114,
   "metadata": {},
   "outputs": [
    {
     "data": {
      "text/plain": [
       "0.40303031880539597"
      ]
     },
     "execution_count": 114,
     "metadata": {},
     "output_type": "execute_result"
    }
   ],
   "source": [
    "np.average(np.std(result_df[attributes].values,axis=1)/result_df[\"total\"].values)"
   ]
  }
 ],
 "metadata": {
  "kernelspec": {
   "display_name": "py3.8",
   "language": "python",
   "name": "python3"
  },
  "language_info": {
   "codemirror_mode": {
    "name": "ipython",
    "version": 3
   },
   "file_extension": ".py",
   "mimetype": "text/x-python",
   "name": "python",
   "nbconvert_exporter": "python",
   "pygments_lexer": "ipython3",
   "version": "3.8.5"
  },
  "orig_nbformat": 4
 },
 "nbformat": 4,
 "nbformat_minor": 2
}
